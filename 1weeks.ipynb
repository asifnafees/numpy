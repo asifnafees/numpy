{
 "cells": [
  {
   "cell_type": "code",
   "execution_count": 2,
   "id": "ed05a02b-d24e-438c-976f-14614099ef13",
   "metadata": {},
   "outputs": [
    {
     "data": {
      "text/plain": [
       "array([ 2,  3, 34,  7, 57,  7])"
      ]
     },
     "execution_count": 2,
     "metadata": {},
     "output_type": "execute_result"
    }
   ],
   "source": [
    "import numpy as np\n",
    "arr=np.array([2,3,34,7,57,7],dtype=np.int64)\n",
    "arr"
   ]
  },
  {
   "cell_type": "code",
   "execution_count": 3,
   "id": "53ea503b-71b9-4eaa-9945-4d18d85ce50d",
   "metadata": {},
   "outputs": [
    {
     "name": "stdout",
     "output_type": "stream",
     "text": [
      "6\n",
      "<class 'numpy.ndarray'>\n",
      "(6,)\n",
      "8\n",
      "1\n"
     ]
    }
   ],
   "source": [
    "print(arr.size)\n",
    "print(type(arr))\n",
    "print(arr.shape)\n",
    "print(arr.itemsize)\n",
    "print(arr.ndim)"
   ]
  },
  {
   "cell_type": "code",
   "execution_count": 4,
   "id": "1961df94-d8f9-4f95-9d22-651fe5449bad",
   "metadata": {},
   "outputs": [
    {
     "data": {
      "text/plain": [
       "array([ 1,  6, 11, 16])"
      ]
     },
     "execution_count": 4,
     "metadata": {},
     "output_type": "execute_result"
    }
   ],
   "source": [
    "np.arange(1,20,5)"
   ]
  },
  {
   "cell_type": "code",
   "execution_count": 5,
   "id": "69d402cd-037b-4362-86ef-5577956be722",
   "metadata": {},
   "outputs": [
    {
     "data": {
      "text/plain": [
       "array([ 1.        ,  2.28571429,  3.57142857,  4.85714286,  6.14285714,\n",
       "        7.42857143,  8.71428571, 10.        ])"
      ]
     },
     "execution_count": 5,
     "metadata": {},
     "output_type": "execute_result"
    }
   ],
   "source": [
    "np.linspace(1,10,8)"
   ]
  },
  {
   "cell_type": "code",
   "execution_count": 6,
   "id": "011b72df-3dbe-415b-9f79-0dedcdf92eeb",
   "metadata": {},
   "outputs": [
    {
     "data": {
      "text/plain": [
       "8"
      ]
     },
     "execution_count": 6,
     "metadata": {},
     "output_type": "execute_result"
    }
   ],
   "source": [
    "arr.itemsize"
   ]
  },
  {
   "cell_type": "code",
   "execution_count": 7,
   "id": "0d1373d6-0db8-4daf-836c-e95a865d1ed7",
   "metadata": {},
   "outputs": [
    {
     "data": {
      "text/plain": [
       "array([[ 2,  3],\n",
       "       [34,  7],\n",
       "       [57,  7]])"
      ]
     },
     "execution_count": 7,
     "metadata": {},
     "output_type": "execute_result"
    }
   ],
   "source": [
    "arr.reshape(3,2)"
   ]
  },
  {
   "cell_type": "code",
   "execution_count": 8,
   "id": "50f7edde-ed4f-4064-a985-e93cc5665bcc",
   "metadata": {},
   "outputs": [
    {
     "data": {
      "text/plain": [
       "array([[False, False],\n",
       "       [False, False],\n",
       "       [False, False],\n",
       "       [False, False],\n",
       "       [False, False]])"
      ]
     },
     "execution_count": 8,
     "metadata": {},
     "output_type": "execute_result"
    }
   ],
   "source": [
    "np.zeros((5,2),dtype=bool)"
   ]
  },
  {
   "cell_type": "code",
   "execution_count": 9,
   "id": "c2d6721b-11dd-4046-a591-9cede24e158d",
   "metadata": {},
   "outputs": [
    {
     "data": {
      "text/plain": [
       "array([ True,  True,  True,  True,  True,  True,  True,  True])"
      ]
     },
     "execution_count": 9,
     "metadata": {},
     "output_type": "execute_result"
    }
   ],
   "source": [
    "np.ones(8,dtype=bool)"
   ]
  },
  {
   "cell_type": "code",
   "execution_count": 10,
   "id": "8c087531-77d6-43c1-92c4-458e1cef244f",
   "metadata": {},
   "outputs": [
    {
     "data": {
      "text/plain": [
       "array([48.54638113,  6.1488521 , 90.06771221, 61.6850547 , 80.32766146,\n",
       "       11.71734552, 55.93767504, 80.71434303, 85.97991325, 38.27826096])"
      ]
     },
     "execution_count": 10,
     "metadata": {},
     "output_type": "execute_result"
    }
   ],
   "source": [
    "np.random.rand(10)*100"
   ]
  },
  {
   "cell_type": "code",
   "execution_count": 11,
   "id": "277e2166-41e6-41dc-8046-18a98eec49af",
   "metadata": {},
   "outputs": [
    {
     "data": {
      "text/plain": [
       "array([  2,  34,   3,   5, 646,   6])"
      ]
     },
     "execution_count": 11,
     "metadata": {},
     "output_type": "execute_result"
    }
   ],
   "source": [
    "arr2=np.array((2,34,3,5,646,6))\n",
    "arr2"
   ]
  },
  {
   "cell_type": "code",
   "execution_count": 12,
   "id": "c2870ab4-47ec-4af2-83e8-0e014ce2b002",
   "metadata": {},
   "outputs": [
    {
     "data": {
      "text/plain": [
       "array([], dtype=int64)"
      ]
     },
     "execution_count": 12,
     "metadata": {},
     "output_type": "execute_result"
    }
   ],
   "source": [
    "arr2[3:-2:-1]"
   ]
  },
  {
   "cell_type": "code",
   "execution_count": 13,
   "id": "ec55b43d-44e7-4757-bc15-facd0cbb267c",
   "metadata": {},
   "outputs": [
    {
     "name": "stdout",
     "output_type": "stream",
     "text": [
      "[11 12 13 14 15]\n",
      "[-1  0  1  2  3]\n",
      "[ 2  4  6  8 10]\n",
      "[0.5 1.  1.5 2.  2.5]\n",
      "[0 1 1 2 2]\n",
      "[1 0 1 0 1]\n"
     ]
    }
   ],
   "source": [
    "arr3 = np.array([1, 2, 3, 4, 5])\n",
    "print(arr3 + 10)   # [11 12 13 14 15] - Addition\n",
    "print(arr3 - 2)    # [-1  0  1  2  3] - Subtraction\n",
    "print(arr3 * 2)    # [ 2  4  6  8 10] - Multiplication\n",
    "print(arr3 / 2)    # [0.5 1.  1.5 2.  2.5] - Division\n",
    "print(arr3 // 2)   # [0 1 1 2 2] - Floor Division\n",
    "print(arr3 % 2)    # [1 0 1 0 1] -remainder\n"
   ]
  },
  {
   "cell_type": "code",
   "execution_count": 14,
   "id": "5697ffc9-c3a7-49ef-ba4b-07872eb85dd4",
   "metadata": {},
   "outputs": [
    {
     "name": "stdout",
     "output_type": "stream",
     "text": [
      "4\n"
     ]
    }
   ],
   "source": [
    "arr4=np.array([4,56,78,23,9])\n",
    "print(np.min(arr4))"
   ]
  },
  {
   "cell_type": "code",
   "execution_count": 15,
   "id": "d4436e59-1351-4458-9e15-515fd825b675",
   "metadata": {},
   "outputs": [
    {
     "data": {
      "text/plain": [
       "array([2, 3, 5, 6])"
      ]
     },
     "execution_count": 15,
     "metadata": {},
     "output_type": "execute_result"
    }
   ],
   "source": [
    "arr2[arr2<10]"
   ]
  },
  {
   "cell_type": "code",
   "execution_count": 16,
   "id": "0465f7b6-3d3b-4535-ae0b-53c3a4eafa6a",
   "metadata": {},
   "outputs": [
    {
     "name": "stdout",
     "output_type": "stream",
     "text": [
      "78\n"
     ]
    }
   ],
   "source": [
    "print(np.max(arr4))"
   ]
  },
  {
   "cell_type": "code",
   "execution_count": 17,
   "id": "5c5894df-58ae-48df-8936-27094b122a44",
   "metadata": {},
   "outputs": [
    {
     "data": {
      "text/plain": [
       "np.float64(76.0)"
      ]
     },
     "execution_count": 17,
     "metadata": {},
     "output_type": "execute_result"
    }
   ],
   "source": [
    "arr5=np.array([34,85,86,87,88])\n",
    "np.mean(arr5)"
   ]
  },
  {
   "cell_type": "code",
   "execution_count": 18,
   "id": "ef3476dd-9034-4cf0-9ced-d0dad61cf5a7",
   "metadata": {},
   "outputs": [
    {
     "name": "stdout",
     "output_type": "stream",
     "text": [
      "442.0\n"
     ]
    }
   ],
   "source": [
    "print(np.var(arr5))"
   ]
  },
  {
   "cell_type": "code",
   "execution_count": 19,
   "id": "072855a6-7420-49b5-9f7a-2fbf4b15ebea",
   "metadata": {},
   "outputs": [
    {
     "name": "stdout",
     "output_type": "stream",
     "text": [
      "21.02379604162864\n"
     ]
    }
   ],
   "source": [
    "print(np.std(arr5))"
   ]
  },
  {
   "cell_type": "code",
   "execution_count": 20,
   "id": "ce266aa2-cf8b-4be1-bdaa-72a6ab8be92c",
   "metadata": {},
   "outputs": [
    {
     "data": {
      "text/plain": [
       "array([1., 2., 3.])"
      ]
     },
     "execution_count": 20,
     "metadata": {},
     "output_type": "execute_result"
    }
   ],
   "source": [
    "arr6 = np.array([5, 2, 8, 1, 3])\n",
    "np.sort(arr6)  # [1 2 3 5 8]\n",
    "arr7 = np.array([1, 2, 3])\n",
    "arr7.astype(float)  # [1 2 3]\n"
   ]
  },
  {
   "cell_type": "code",
   "execution_count": 21,
   "id": "3af1b6d4-4ce3-418b-b1a2-95e8147bd066",
   "metadata": {},
   "outputs": [
    {
     "name": "stdout",
     "output_type": "stream",
     "text": [
      "(array([2, 3, 4]),)\n",
      "True\n",
      "False\n"
     ]
    }
   ],
   "source": [
    "arr8 = np.array([10, 20, 30, 40, 50])\n",
    "print(np.where(arr8 > 25) )   # (array([2, 3, 4]),) where() returns indices \n",
    "print(np.any(arr > 45)  )    # True\n",
    "print(np.all(arr > 45) )      # True\n"
   ]
  },
  {
   "cell_type": "code",
   "execution_count": 22,
   "id": "93385d37-98d3-43db-bccc-905c755afa7c",
   "metadata": {},
   "outputs": [
    {
     "data": {
      "text/plain": [
       "array([[ 2,  3,  5],\n",
       "       [ 6,  8,  9],\n",
       "       [ 0, 77, 23]])"
      ]
     },
     "execution_count": 22,
     "metadata": {},
     "output_type": "execute_result"
    }
   ],
   "source": [
    "arr9=np.array([[2,3,5,],[6,8,9],[0,77,23]])\n",
    "arr9"
   ]
  },
  {
   "cell_type": "code",
   "execution_count": 23,
   "id": "0d65e772-e1ab-4479-8a98-258b89bff9ab",
   "metadata": {},
   "outputs": [
    {
     "data": {
      "text/plain": [
       "np.int64(8)"
      ]
     },
     "execution_count": 23,
     "metadata": {},
     "output_type": "execute_result"
    }
   ],
   "source": [
    "arr9[1,1]"
   ]
  },
  {
   "cell_type": "code",
   "execution_count": 24,
   "id": "6e21b340-cc50-4dce-a588-a4c2543282a2",
   "metadata": {},
   "outputs": [
    {
     "data": {
      "text/plain": [
       "np.int64(23)"
      ]
     },
     "execution_count": 24,
     "metadata": {},
     "output_type": "execute_result"
    }
   ],
   "source": [
    "arr9[2,2]"
   ]
  },
  {
   "cell_type": "code",
   "execution_count": 25,
   "id": "3d49772c-7566-4ecf-8052-8e4ae81a1809",
   "metadata": {},
   "outputs": [
    {
     "data": {
      "text/plain": [
       "array([6, 8, 9])"
      ]
     },
     "execution_count": 25,
     "metadata": {},
     "output_type": "execute_result"
    }
   ],
   "source": [
    "arr9[1]"
   ]
  },
  {
   "cell_type": "code",
   "execution_count": 26,
   "id": "87819b89-a354-4e7e-88cb-188f1de69be5",
   "metadata": {},
   "outputs": [
    {
     "data": {
      "text/plain": [
       "array([ 0, 77, 23])"
      ]
     },
     "execution_count": 26,
     "metadata": {},
     "output_type": "execute_result"
    }
   ],
   "source": [
    "arr9[2]"
   ]
  },
  {
   "cell_type": "code",
   "execution_count": 27,
   "id": "efbdb7fb-e1bc-4aec-a2cf-e2c385b9fde7",
   "metadata": {},
   "outputs": [
    {
     "data": {
      "text/plain": [
       "array([ 3,  8, 77])"
      ]
     },
     "execution_count": 27,
     "metadata": {},
     "output_type": "execute_result"
    }
   ],
   "source": [
    "arr9[:,1]"
   ]
  },
  {
   "cell_type": "code",
   "execution_count": 28,
   "id": "6b3b6c3b-1413-4b02-a06b-ac80975136c6",
   "metadata": {},
   "outputs": [
    {
     "name": "stdout",
     "output_type": "stream",
     "text": [
      "[2, 3, 54, 5, 46]\n"
     ]
    }
   ],
   "source": [
    "a=[2,3,54,5,46]\n",
    "print(a[:])"
   ]
  },
  {
   "cell_type": "code",
   "execution_count": 29,
   "id": "f61f6f4e-fedb-4991-afc1-4f0c7bc6932f",
   "metadata": {},
   "outputs": [
    {
     "name": "stdout",
     "output_type": "stream",
     "text": [
      "[[ 2  3  5]\n",
      " [ 6  8  9]\n",
      " [ 0 77 23]]\n"
     ]
    }
   ],
   "source": [
    "arr9[:,2]\n",
    "print(arr9)"
   ]
  },
  {
   "cell_type": "code",
   "execution_count": 30,
   "id": "626091f7-4446-4aa9-9242-ce3970b5e39c",
   "metadata": {},
   "outputs": [
    {
     "data": {
      "text/plain": [
       "array([[ 6,  8],\n",
       "       [ 0, 77]])"
      ]
     },
     "execution_count": 30,
     "metadata": {},
     "output_type": "execute_result"
    }
   ],
   "source": [
    "arr9[1:3,0:2]"
   ]
  },
  {
   "cell_type": "code",
   "execution_count": 31,
   "id": "d413c470-0691-4c92-979c-dbcef1837330",
   "metadata": {},
   "outputs": [
    {
     "data": {
      "text/plain": [
       "array([[2, 3],\n",
       "       [6, 8]])"
      ]
     },
     "execution_count": 31,
     "metadata": {},
     "output_type": "execute_result"
    }
   ],
   "source": [
    "arr9[:2,:2]"
   ]
  },
  {
   "cell_type": "code",
   "execution_count": 32,
   "id": "05a46e9a-c466-417d-97b0-2066441bf50f",
   "metadata": {},
   "outputs": [
    {
     "data": {
      "text/plain": [
       "array([ 5,  9, 23])"
      ]
     },
     "execution_count": 32,
     "metadata": {},
     "output_type": "execute_result"
    }
   ],
   "source": [
    "arr9[:,2]"
   ]
  },
  {
   "cell_type": "code",
   "execution_count": 33,
   "id": "301c6f6b-01f5-4d7d-b26c-9da13905e8a0",
   "metadata": {},
   "outputs": [
    {
     "data": {
      "text/plain": [
       "array([ 3,  8, 77])"
      ]
     },
     "execution_count": 33,
     "metadata": {},
     "output_type": "execute_result"
    }
   ],
   "source": [
    "arr9[:,1]"
   ]
  },
  {
   "cell_type": "code",
   "execution_count": 34,
   "id": "e69f3d9d-58f6-4cb7-ba22-607d0964b254",
   "metadata": {},
   "outputs": [
    {
     "data": {
      "text/plain": [
       "array([[ 2,  3,  5],\n",
       "       [ 0, 77, 23]])"
      ]
     },
     "execution_count": 34,
     "metadata": {},
     "output_type": "execute_result"
    }
   ],
   "source": [
    "arr9[::2]"
   ]
  },
  {
   "cell_type": "code",
   "execution_count": 35,
   "id": "a3c839e5-c8f6-45f3-b1f4-18829f2145b8",
   "metadata": {},
   "outputs": [
    {
     "data": {
      "text/plain": [
       "array([[ 2,  3,  5],\n",
       "       [ 6,  8,  9],\n",
       "       [ 0, 77, 23]])"
      ]
     },
     "execution_count": 35,
     "metadata": {},
     "output_type": "execute_result"
    }
   ],
   "source": [
    "arr9"
   ]
  },
  {
   "cell_type": "code",
   "execution_count": 36,
   "id": "08960b6a-65ea-463e-a142-cf169c2be4a1",
   "metadata": {},
   "outputs": [
    {
     "data": {
      "text/plain": [
       "array([[ 6,  8,  9],\n",
       "       [ 0, 77, 23]])"
      ]
     },
     "execution_count": 36,
     "metadata": {},
     "output_type": "execute_result"
    }
   ],
   "source": [
    "arr9[1:]"
   ]
  },
  {
   "cell_type": "code",
   "execution_count": 37,
   "id": "07e3b06d-5394-4f54-bce5-ef8fe5bfea1e",
   "metadata": {},
   "outputs": [
    {
     "data": {
      "text/plain": [
       "array([[2, 3, 5],\n",
       "       [6, 8, 9]])"
      ]
     },
     "execution_count": 37,
     "metadata": {},
     "output_type": "execute_result"
    }
   ],
   "source": [
    "arr9[:2]"
   ]
  },
  {
   "cell_type": "code",
   "execution_count": 38,
   "id": "1a88136c-dac8-4793-8645-ae726884490a",
   "metadata": {},
   "outputs": [
    {
     "data": {
      "text/plain": [
       "array([[ 2,  3,  5],\n",
       "       [ 0, 77, 23]])"
      ]
     },
     "execution_count": 38,
     "metadata": {},
     "output_type": "execute_result"
    }
   ],
   "source": [
    "arr9[::2]"
   ]
  },
  {
   "cell_type": "code",
   "execution_count": 39,
   "id": "f9437101-531f-48c7-b296-7813c33ad153",
   "metadata": {},
   "outputs": [
    {
     "data": {
      "text/plain": [
       "array([[ 2,  3,  5],\n",
       "       [ 6,  8,  9],\n",
       "       [ 0, 77, 23]])"
      ]
     },
     "execution_count": 39,
     "metadata": {},
     "output_type": "execute_result"
    }
   ],
   "source": [
    "arr9"
   ]
  },
  {
   "cell_type": "code",
   "execution_count": 40,
   "id": "a70038e1-e56c-4a38-97ce-7a63b3b773e3",
   "metadata": {},
   "outputs": [
    {
     "data": {
      "text/plain": [
       "array([2, 6, 0])"
      ]
     },
     "execution_count": 40,
     "metadata": {},
     "output_type": "execute_result"
    }
   ],
   "source": [
    "arr9[:,0]"
   ]
  },
  {
   "cell_type": "code",
   "execution_count": 41,
   "id": "e7b5927f-55ac-4e3b-9187-69070b0e5dc5",
   "metadata": {},
   "outputs": [
    {
     "data": {
      "text/plain": [
       "array([ 5,  9, 23])"
      ]
     },
     "execution_count": 41,
     "metadata": {},
     "output_type": "execute_result"
    }
   ],
   "source": [
    "arr9[:,2]"
   ]
  },
  {
   "cell_type": "code",
   "execution_count": 42,
   "id": "57b2104b-2a78-4777-81a4-fc34be0f512e",
   "metadata": {},
   "outputs": [
    {
     "data": {
      "text/plain": [
       "array([[ 2,  3],\n",
       "       [ 6,  8],\n",
       "       [ 0, 77]])"
      ]
     },
     "execution_count": 42,
     "metadata": {},
     "output_type": "execute_result"
    }
   ],
   "source": [
    "arr9[:,:2]"
   ]
  },
  {
   "cell_type": "code",
   "execution_count": 43,
   "id": "da788849-9af7-43d7-accb-c5c001fde359",
   "metadata": {},
   "outputs": [
    {
     "data": {
      "text/plain": [
       "array([[ 2,  5],\n",
       "       [ 0, 23]])"
      ]
     },
     "execution_count": 43,
     "metadata": {},
     "output_type": "execute_result"
    }
   ],
   "source": [
    "arr9[::2,::2]"
   ]
  },
  {
   "cell_type": "code",
   "execution_count": 44,
   "id": "a70fb2af-9f8d-4f8f-ae7c-90a43607580e",
   "metadata": {},
   "outputs": [
    {
     "data": {
      "text/plain": [
       "array([[ 2,  3,  5],\n",
       "       [ 6,  8,  9],\n",
       "       [ 0, 77, 23]])"
      ]
     },
     "execution_count": 44,
     "metadata": {},
     "output_type": "execute_result"
    }
   ],
   "source": [
    "arr9"
   ]
  },
  {
   "cell_type": "code",
   "execution_count": 45,
   "id": "8fd55af4-dc90-4ee8-adeb-6cb202e6a667",
   "metadata": {},
   "outputs": [
    {
     "data": {
      "text/plain": [
       "array([[ 2,  3,  5],\n",
       "       [ 0, 77, 23]])"
      ]
     },
     "execution_count": 45,
     "metadata": {},
     "output_type": "execute_result"
    }
   ],
   "source": [
    "arr9[[0,2]]"
   ]
  },
  {
   "cell_type": "code",
   "execution_count": 46,
   "id": "f28ce498-4b72-4e88-be5a-67ce4df5aee7",
   "metadata": {},
   "outputs": [
    {
     "data": {
      "text/plain": [
       "array([[2, 3, 5],\n",
       "       [6, 8, 9]])"
      ]
     },
     "execution_count": 46,
     "metadata": {},
     "output_type": "execute_result"
    }
   ],
   "source": [
    "arr9[:2]"
   ]
  },
  {
   "cell_type": "code",
   "execution_count": 47,
   "id": "f24e3fbf-5e7e-482b-bb6f-42eb91cce5c3",
   "metadata": {},
   "outputs": [
    {
     "data": {
      "text/plain": [
       "array([[ 2,  3,  5],\n",
       "       [ 6,  8,  9],\n",
       "       [ 0, 77, 23]])"
      ]
     },
     "execution_count": 47,
     "metadata": {},
     "output_type": "execute_result"
    }
   ],
   "source": [
    "arr9"
   ]
  },
  {
   "cell_type": "code",
   "execution_count": 48,
   "id": "66e75adc-37ab-4fb5-8efb-165cc4d67f2e",
   "metadata": {},
   "outputs": [
    {
     "name": "stdout",
     "output_type": "stream",
     "text": [
      "2\n",
      "3\n",
      "5\n",
      "6\n",
      "8\n",
      "9\n",
      "0\n",
      "77\n",
      "23\n"
     ]
    }
   ],
   "source": [
    "for i in arr9:\n",
    "    for j in i:\n",
    "         print(j)"
   ]
  },
  {
   "cell_type": "code",
   "execution_count": 49,
   "id": "0b01f4d6-1b24-4fe8-913d-7158da9af07f",
   "metadata": {},
   "outputs": [
    {
     "name": "stdout",
     "output_type": "stream",
     "text": [
      "2\n",
      "3\n",
      "5\n",
      "6\n",
      "8\n",
      "9\n",
      "0\n",
      "77\n",
      "23\n"
     ]
    }
   ],
   "source": [
    "for i in np.nditer(arr9):\n",
    "    print(i)"
   ]
  },
  {
   "cell_type": "code",
   "execution_count": 50,
   "id": "1fbba4f0-9141-45bd-86ec-92d46c8cd9d7",
   "metadata": {},
   "outputs": [
    {
     "data": {
      "text/plain": [
       "array([[ 2,  3,  5],\n",
       "       [ 6,  8,  9],\n",
       "       [ 0, 77, 23]])"
      ]
     },
     "execution_count": 50,
     "metadata": {},
     "output_type": "execute_result"
    }
   ],
   "source": [
    "arr9"
   ]
  },
  {
   "cell_type": "code",
   "execution_count": 51,
   "id": "bf11b9a8-e010-42f1-a9f4-78dc9819b3c2",
   "metadata": {},
   "outputs": [
    {
     "data": {
      "text/plain": [
       "array([[ 2,  3,  5],\n",
       "       [ 0, 77, 23]])"
      ]
     },
     "execution_count": 51,
     "metadata": {},
     "output_type": "execute_result"
    }
   ],
   "source": [
    "arr9[::2,]"
   ]
  },
  {
   "cell_type": "code",
   "execution_count": 52,
   "id": "d0d6abd4-4c3b-4c75-9e87-41130739b7a5",
   "metadata": {},
   "outputs": [
    {
     "data": {
      "text/plain": [
       "array([[ 2,  3,  5],\n",
       "       [ 0, 77, 23]])"
      ]
     },
     "execution_count": 52,
     "metadata": {},
     "output_type": "execute_result"
    }
   ],
   "source": [
    "arr9[[0,2]]"
   ]
  },
  {
   "cell_type": "code",
   "execution_count": 53,
   "id": "c0400d69-dd9d-414f-980a-f8ea6b496e97",
   "metadata": {},
   "outputs": [
    {
     "data": {
      "text/plain": [
       "array([[ 6,  8,  9],\n",
       "       [ 0, 77, 23]])"
      ]
     },
     "execution_count": 53,
     "metadata": {},
     "output_type": "execute_result"
    }
   ],
   "source": [
    "arr9[[1,2]]"
   ]
  },
  {
   "cell_type": "code",
   "execution_count": 54,
   "id": "5da711e6-bee9-41e2-932f-2b450842c431",
   "metadata": {},
   "outputs": [
    {
     "data": {
      "text/plain": [
       "array([[ 2,  3],\n",
       "       [ 6,  8],\n",
       "       [ 0, 77]])"
      ]
     },
     "execution_count": 54,
     "metadata": {},
     "output_type": "execute_result"
    }
   ],
   "source": [
    "arr9[:,[0,1]]"
   ]
  },
  {
   "cell_type": "code",
   "execution_count": 55,
   "id": "531363c0-492a-40c9-88cd-d6b313ece28b",
   "metadata": {},
   "outputs": [
    {
     "data": {
      "text/plain": [
       "array([[ 3],\n",
       "       [ 8],\n",
       "       [77]])"
      ]
     },
     "execution_count": 55,
     "metadata": {},
     "output_type": "execute_result"
    }
   ],
   "source": [
    "arr9[:,[1]]"
   ]
  },
  {
   "cell_type": "code",
   "execution_count": 56,
   "id": "77f00e99-0eef-417e-bc8b-d4c770f14b60",
   "metadata": {},
   "outputs": [
    {
     "data": {
      "text/plain": [
       "array([[ 3],\n",
       "       [ 8],\n",
       "       [77]])"
      ]
     },
     "execution_count": 56,
     "metadata": {},
     "output_type": "execute_result"
    }
   ],
   "source": [
    "arr9[:,1:2]"
   ]
  },
  {
   "cell_type": "code",
   "execution_count": 57,
   "id": "84ecf42a-f598-4a26-995d-5c9b7df3e115",
   "metadata": {},
   "outputs": [
    {
     "data": {
      "text/plain": [
       "array([[ 2,  3,  5],\n",
       "       [ 6,  8,  9],\n",
       "       [ 0, 77, 23]])"
      ]
     },
     "execution_count": 57,
     "metadata": {},
     "output_type": "execute_result"
    }
   ],
   "source": [
    "arr9"
   ]
  },
  {
   "cell_type": "code",
   "execution_count": 58,
   "id": "931e7d58-94a9-4002-86b8-1827651937cd",
   "metadata": {},
   "outputs": [
    {
     "data": {
      "text/plain": [
       "array([[ 2,  5],\n",
       "       [ 0, 23]])"
      ]
     },
     "execution_count": 58,
     "metadata": {},
     "output_type": "execute_result"
    }
   ],
   "source": [
    "arr9[[0,2],::2]"
   ]
  },
  {
   "cell_type": "code",
   "execution_count": 59,
   "id": "b905643d-9506-4af4-8ae0-86a1b7d82b19",
   "metadata": {},
   "outputs": [
    {
     "data": {
      "text/plain": [
       "array([[ 6,  9],\n",
       "       [ 0, 23]])"
      ]
     },
     "execution_count": 59,
     "metadata": {},
     "output_type": "execute_result"
    }
   ],
   "source": [
    "arr9[[1,2],::2]"
   ]
  },
  {
   "cell_type": "code",
   "execution_count": 60,
   "id": "65f33942-9bd1-4ee9-a9b3-2bfea363da58",
   "metadata": {},
   "outputs": [
    {
     "data": {
      "text/plain": [
       "array([[ 2,  3,  5],\n",
       "       [ 6,  8,  9],\n",
       "       [ 0, 77, 23]])"
      ]
     },
     "execution_count": 60,
     "metadata": {},
     "output_type": "execute_result"
    }
   ],
   "source": [
    "arr9\n"
   ]
  },
  {
   "cell_type": "code",
   "execution_count": 61,
   "id": "3626f150-5b72-4707-833b-f8b84b703892",
   "metadata": {},
   "outputs": [
    {
     "data": {
      "text/plain": [
       "array([[2, 5],\n",
       "       [6, 9]])"
      ]
     },
     "execution_count": 61,
     "metadata": {},
     "output_type": "execute_result"
    }
   ],
   "source": [
    "arr9[[0,1],::2]"
   ]
  },
  {
   "cell_type": "code",
   "execution_count": 62,
   "id": "1f36083e-3efd-409f-a042-8c1b95c3ed99",
   "metadata": {},
   "outputs": [
    {
     "data": {
      "text/plain": [
       "array([[ 2,  3,  5],\n",
       "       [ 6,  8,  9],\n",
       "       [ 0, 77, 23]])"
      ]
     },
     "execution_count": 62,
     "metadata": {},
     "output_type": "execute_result"
    }
   ],
   "source": [
    "arr9"
   ]
  },
  {
   "cell_type": "code",
   "execution_count": 63,
   "id": "9d6bdbc7-c8fb-48bc-859b-965f3364c0ee",
   "metadata": {},
   "outputs": [
    {
     "name": "stdout",
     "output_type": "stream",
     "text": [
      "[[14  7]\n",
      " [49 22]]\n",
      "[[-10   1]\n",
      " [ 41 -10]]\n"
     ]
    }
   ],
   "source": [
    "matrix1=[[2,4],\n",
    "         [45,6]]\n",
    "matrix2=[[12,3],\n",
    "         [4,16]]\n",
    "m1=np.array(matrix1)\n",
    "m2=np.array(matrix2)\n",
    "print(m1+m2)\n",
    "print(m1-m2)"
   ]
  },
  {
   "cell_type": "code",
   "execution_count": 64,
   "id": "0a6dc4a9-2eb1-402f-b990-f541a418c89a",
   "metadata": {},
   "outputs": [
    {
     "data": {
      "text/plain": [
       "array([[ 9,  7, 11],\n",
       "       [ 9, 16, 18],\n",
       "       [10, 18,  2]])"
      ]
     },
     "execution_count": 64,
     "metadata": {},
     "output_type": "execute_result"
    }
   ],
   "source": [
    "matrix3=[\n",
    "    [2,4,6],\n",
    "    [5,8,9],\n",
    "    [0,9,1]]\n",
    "matrix4=[\n",
    "    [7,3,5],\n",
    "    [4,8,9],\n",
    "    [10,9,1]]\n",
    "m3=np.array(matrix3)\n",
    "m4=np.array(matrix4)\n",
    "m3+m4"
   ]
  },
  {
   "cell_type": "code",
   "execution_count": 65,
   "id": "3233aab2-5956-42b0-b4a7-ab7b641a3d39",
   "metadata": {},
   "outputs": [
    {
     "data": {
      "text/plain": [
       "array([[ -5,   1,   1],\n",
       "       [  1,   0,   0],\n",
       "       [-10,   0,   0]])"
      ]
     },
     "execution_count": 65,
     "metadata": {},
     "output_type": "execute_result"
    }
   ],
   "source": [
    "m3-m4"
   ]
  },
  {
   "cell_type": "code",
   "execution_count": 66,
   "id": "b9e0795a-4448-4e5e-9ecb-00de2661d75d",
   "metadata": {},
   "outputs": [
    {
     "data": {
      "text/plain": [
       "array([[14, 12, 30],\n",
       "       [20, 64, 81],\n",
       "       [ 0, 81,  1]])"
      ]
     },
     "execution_count": 66,
     "metadata": {},
     "output_type": "execute_result"
    }
   ],
   "source": [
    "m3*m4"
   ]
  },
  {
   "cell_type": "code",
   "execution_count": 67,
   "id": "67a6c5b5-9eb8-4124-98bb-dbb756f07319",
   "metadata": {},
   "outputs": [
    {
     "data": {
      "text/plain": [
       "array([[ 4,  7],\n",
       "       [ 4, 28]])"
      ]
     },
     "execution_count": 67,
     "metadata": {},
     "output_type": "execute_result"
    }
   ],
   "source": [
    "matrix5=[[2,1],\n",
    "         [4,4]]\n",
    "matrix6=[[3,0],\n",
    "         [-2,7]]\n",
    "m5=np.array(matrix5)\n",
    "m6=np.array(matrix6)\n",
    "np.dot(m5,m6)"
   ]
  },
  {
   "cell_type": "code",
   "execution_count": 68,
   "id": "592d7f9b-77c8-4600-95bd-5208f01ccd77",
   "metadata": {},
   "outputs": [
    {
     "data": {
      "text/plain": [
       "array([[ 7,  8, 14],\n",
       "       [19, 16, 18]])"
      ]
     },
     "execution_count": 68,
     "metadata": {},
     "output_type": "execute_result"
    }
   ],
   "source": [
    "m7=np.array([[2,1],\n",
    "            [4,7]])\n",
    "m8=np.array([[3,4,8],\n",
    "             [1,0,-2]])\n",
    "np.dot(m7,m8)"
   ]
  },
  {
   "cell_type": "code",
   "execution_count": null,
   "id": "1bbf3db4-e1b1-4d6f-a7b6-e867cf8d9a22",
   "metadata": {},
   "outputs": [],
   "source": []
  }
 ],
 "metadata": {
  "kernelspec": {
   "display_name": "Python 3 (ipykernel)",
   "language": "python",
   "name": "python3"
  },
  "language_info": {
   "codemirror_mode": {
    "name": "ipython",
    "version": 3
   },
   "file_extension": ".py",
   "mimetype": "text/x-python",
   "name": "python",
   "nbconvert_exporter": "python",
   "pygments_lexer": "ipython3",
   "version": "3.13.3"
  }
 },
 "nbformat": 4,
 "nbformat_minor": 5
}
